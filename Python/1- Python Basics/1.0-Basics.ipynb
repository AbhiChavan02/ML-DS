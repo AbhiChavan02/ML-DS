{
 "cells": [
  {
   "cell_type": "code",
   "execution_count": 1,
   "id": "91e80923",
   "metadata": {},
   "outputs": [
    {
     "name": "stdout",
     "output_type": "stream",
     "text": [
      "Abhijeet\n",
      "Chavan\n"
     ]
    }
   ],
   "source": [
    "## Basics Syntax Rules in Python\n",
    "## Case Sensitivity - Python is Case Sensitive\n",
    "\n",
    "name = \"Abhijeet\"\n",
    "Name = \"Chavan\"\n",
    "\n",
    "print(name)\n",
    "print(Name)"
   ]
  },
  {
   "cell_type": "code",
   "execution_count": 2,
   "id": "2a32897d",
   "metadata": {},
   "outputs": [
    {
     "name": "stdout",
     "output_type": "stream",
     "text": [
      "32\n",
      "32\n"
     ]
    }
   ],
   "source": [
    "##Indentation\n",
    "\n",
    "age = 32\n",
    "if age>30:\n",
    "    print(age)\n",
    "\n",
    "print(age)"
   ]
  },
  {
   "cell_type": "code",
   "execution_count": 3,
   "id": "46a069f1",
   "metadata": {},
   "outputs": [
    {
     "name": "stdout",
     "output_type": "stream",
     "text": [
      "Hello Abhi\n"
     ]
    }
   ],
   "source": [
    "## This is single line comment\n",
    "print(\"Hello Abhi\")"
   ]
  },
  {
   "cell_type": "code",
   "execution_count": 4,
   "id": "59227a85",
   "metadata": {},
   "outputs": [
    {
     "name": "stdout",
     "output_type": "stream",
     "text": [
      "43\n"
     ]
    }
   ],
   "source": [
    "## Line Continuation\n",
    "\n",
    "total = 1+2+3+4+5+6+7+\\\n",
    "4+5+6\n",
    "\n",
    "print(total)"
   ]
  },
  {
   "cell_type": "code",
   "execution_count": 5,
   "id": "cb23a86d",
   "metadata": {},
   "outputs": [
    {
     "name": "stdout",
     "output_type": "stream",
     "text": [
      "15\n"
     ]
    }
   ],
   "source": [
    "## Multiple Statement on single line\n",
    "\n",
    "x=5;y=10;z=x+y;\n",
    "print(z)"
   ]
  },
  {
   "cell_type": "code",
   "execution_count": 8,
   "id": "d084207b",
   "metadata": {},
   "outputs": [],
   "source": [
    "## Variable Assignment\n",
    "age = 32\n",
    "name = \"Abhi\""
   ]
  },
  {
   "cell_type": "code",
   "execution_count": 9,
   "id": "412936a4",
   "metadata": {},
   "outputs": [
    {
     "data": {
      "text/plain": [
       "int"
      ]
     },
     "execution_count": 9,
     "metadata": {},
     "output_type": "execute_result"
    }
   ],
   "source": [
    "type(age)\n",
    "# type(name)"
   ]
  },
  {
   "cell_type": "code",
   "execution_count": 10,
   "id": "9078f027",
   "metadata": {},
   "outputs": [
    {
     "name": "stdout",
     "output_type": "stream",
     "text": [
      "<class 'int'>\n",
      "<class 'str'>\n"
     ]
    }
   ],
   "source": [
    "## Type Inference\n",
    "variable = 10\n",
    "print(type(variable))\n",
    "variable = \"Abhi\"\n",
    "print(type(variable))"
   ]
  },
  {
   "cell_type": "code",
   "execution_count": 11,
   "id": "c9d0e263",
   "metadata": {},
   "outputs": [
    {
     "ename": "NameError",
     "evalue": "name 'b' is not defined",
     "output_type": "error",
     "traceback": [
      "\u001b[31m---------------------------------------------------------------------------\u001b[39m",
      "\u001b[31mNameError\u001b[39m                                 Traceback (most recent call last)",
      "\u001b[36mCell\u001b[39m\u001b[36m \u001b[39m\u001b[32mIn[11]\u001b[39m\u001b[32m, line 2\u001b[39m\n\u001b[32m      1\u001b[39m \u001b[38;5;66;03m# Name Error\u001b[39;00m\n\u001b[32m----> \u001b[39m\u001b[32m2\u001b[39m a=\u001b[43mb\u001b[49m\n",
      "\u001b[31mNameError\u001b[39m: name 'b' is not defined"
     ]
    }
   ],
   "source": [
    "# Name Error\n",
    "a=b"
   ]
  },
  {
   "cell_type": "code",
   "execution_count": null,
   "id": "6dec3927",
   "metadata": {},
   "outputs": [],
   "source": [
    "## Code example of Indentation\n",
    "if True:\n",
    "    print(\"Correct Indentation\")\n",
    "    if False:\n",
    "        print(\"Thiss ont print\")\n",
    "    print(\"This will print\")\n",
    "print(\"Outside the if block\")"
   ]
  }
 ],
 "metadata": {
  "kernelspec": {
   "display_name": "Python 3",
   "language": "python",
   "name": "python3"
  },
  "language_info": {
   "codemirror_mode": {
    "name": "ipython",
    "version": 3
   },
   "file_extension": ".py",
   "mimetype": "text/x-python",
   "name": "python",
   "nbconvert_exporter": "python",
   "pygments_lexer": "ipython3",
   "version": "3.12.11"
  }
 },
 "nbformat": 4,
 "nbformat_minor": 5
}
