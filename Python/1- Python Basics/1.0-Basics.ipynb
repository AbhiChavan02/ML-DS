{
 "cells": [
  {
   "cell_type": "code",
   "execution_count": 1,
   "id": "91e80923",
   "metadata": {},
   "outputs": [
    {
     "name": "stdout",
     "output_type": "stream",
     "text": [
      "Abhijeet\n",
      "Chavan\n"
     ]
    }
   ],
   "source": [
    "## Basics Syntax Rules in Python\n",
    "## Case Sensitivity - Python is Case Sensitive\n",
    "\n",
    "name = \"Abhijeet\"\n",
    "Name = \"Chavan\"\n",
    "\n",
    "print(name)\n",
    "print(Name)"
   ]
  },
  {
   "cell_type": "code",
   "execution_count": 2,
   "id": "2a32897d",
   "metadata": {},
   "outputs": [
    {
     "name": "stdout",
     "output_type": "stream",
     "text": [
      "32\n",
      "32\n"
     ]
    }
   ],
   "source": [
    "##Indentation\n",
    "\n",
    "age = 32\n",
    "if age>30:\n",
    "    print(age)\n",
    "\n",
    "print(age)"
   ]
  },
  {
   "cell_type": "code",
   "execution_count": 3,
   "id": "46a069f1",
   "metadata": {},
   "outputs": [
    {
     "name": "stdout",
     "output_type": "stream",
     "text": [
      "Hello Abhi\n"
     ]
    }
   ],
   "source": [
    "## This is single line comment\n",
    "print(\"Hello Abhi\")"
   ]
  },
  {
   "cell_type": "code",
   "execution_count": 4,
   "id": "59227a85",
   "metadata": {},
   "outputs": [
    {
     "name": "stdout",
     "output_type": "stream",
     "text": [
      "43\n"
     ]
    }
   ],
   "source": [
    "## Line Continuation\n",
    "\n",
    "total = 1+2+3+4+5+6+7+\\\n",
    "4+5+6\n",
    "\n",
    "print(total)"
   ]
  },
  {
   "cell_type": "code",
   "execution_count": null,
   "id": "cb23a86d",
   "metadata": {},
   "outputs": [],
   "source": [
    "## Multiple Statement on single line"
   ]
  }
 ],
 "metadata": {
  "kernelspec": {
   "display_name": "Python 3",
   "language": "python",
   "name": "python3"
  },
  "language_info": {
   "codemirror_mode": {
    "name": "ipython",
    "version": 3
   },
   "file_extension": ".py",
   "mimetype": "text/x-python",
   "name": "python",
   "nbconvert_exporter": "python",
   "pygments_lexer": "ipython3",
   "version": "3.12.11"
  }
 },
 "nbformat": 4,
 "nbformat_minor": 5
}
