{
 "cells": [
  {
   "cell_type": "markdown",
   "id": "098e3b64",
   "metadata": {},
   "source": [
    "1. Write a python program to print \"Hello, World!\"\n"
   ]
  },
  {
   "cell_type": "code",
   "execution_count": 1,
   "id": "7ea0ebb7",
   "metadata": {},
   "outputs": [
    {
     "name": "stdout",
     "output_type": "stream",
     "text": [
      "Hello, World!\n"
     ]
    }
   ],
   "source": [
    "print(\"Hello, World!\")"
   ]
  },
  {
   "cell_type": "markdown",
   "id": "89eba038",
   "metadata": {},
   "source": [
    "2. write a python program that take user input and print it\n"
   ]
  },
  {
   "cell_type": "code",
   "execution_count": 2,
   "id": "eba8c897",
   "metadata": {},
   "outputs": [
    {
     "name": "stdout",
     "output_type": "stream",
     "text": [
      "Hi, Abhi\n"
     ]
    }
   ],
   "source": [
    "X = input(\"What is your Name\")\n",
    "print(\"Hi,\",X)"
   ]
  },
  {
   "cell_type": "markdown",
   "id": "87a76511",
   "metadata": {},
   "source": [
    "3. Write a python program to check if a number is negative, positive or zero\n"
   ]
  },
  {
   "cell_type": "code",
   "execution_count": 3,
   "id": "0484f4a0",
   "metadata": {},
   "outputs": [
    {
     "name": "stdout",
     "output_type": "stream",
     "text": [
      "Number is Positive\n"
     ]
    }
   ],
   "source": [
    "number = float(input(\"Enter number here\"))\n",
    "if number > 0:\n",
    "    print(\"Number is Positive\")\n",
    "elif number < 0:\n",
    "    print(\"Number is Negative\")\n",
    "else :\n",
    "    print(\"Number is Zero\")"
   ]
  },
  {
   "cell_type": "markdown",
   "id": "999e3a2c",
   "metadata": {},
   "source": [
    "4. Write a python program to find the largest of three number\n"
   ]
  },
  {
   "cell_type": "code",
   "execution_count": 4,
   "id": "5a1b0b57",
   "metadata": {},
   "outputs": [
    {
     "name": "stdout",
     "output_type": "stream",
     "text": [
      "Largest Number is 3.0\n"
     ]
    }
   ],
   "source": [
    "num1 = float(input(\"1st Number\"))\n",
    "num2 = float(input(\"2nd Number\"))\n",
    "num3 = float(input(\"3rd Number\"))\n",
    "\n",
    "if (num1 >= num2) and (num1 >= num3):\n",
    "    largest = num1\n",
    "elif (num2 >= num1) and (num2 >= num3):\n",
    "    largest = num2\n",
    "else :\n",
    "    largest = num3\n",
    "\n",
    "print(f\"Largest Number is {largest}\")"
   ]
  },
  {
   "cell_type": "markdown",
   "id": "cc609e9e",
   "metadata": {},
   "source": [
    "5. Write a python program to calculate the factorial of a Number\n"
   ]
  },
  {
   "cell_type": "code",
   "execution_count": null,
   "id": "68392ccf",
   "metadata": {},
   "outputs": [],
   "source": [
    "def factorial(n):\n",
    "    if n==0:\n",
    "        return 1\n",
    "    else:\n",
    "        return n * factorial(n-1)\n",
    "    \n",
    "num = int(\"Enter a Number\")\n",
    "print(f\"The factorial of {num} is {factorial(num)}\")"
   ]
  }
 ],
 "metadata": {
  "kernelspec": {
   "display_name": "Python 3",
   "language": "python",
   "name": "python3"
  },
  "language_info": {
   "codemirror_mode": {
    "name": "ipython",
    "version": 3
   },
   "file_extension": ".py",
   "mimetype": "text/x-python",
   "name": "python",
   "nbconvert_exporter": "python",
   "pygments_lexer": "ipython3",
   "version": "3.12.11"
  }
 },
 "nbformat": 4,
 "nbformat_minor": 5
}
