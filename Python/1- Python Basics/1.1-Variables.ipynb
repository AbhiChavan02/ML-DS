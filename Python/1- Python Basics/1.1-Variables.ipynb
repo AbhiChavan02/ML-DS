{
 "cells": [
  {
   "cell_type": "code",
   "execution_count": 1,
   "id": "77549ff7",
   "metadata": {},
   "outputs": [
    {
     "name": "stdout",
     "output_type": "stream",
     "text": [
      "Age:  23\n",
      "Height:  6.0\n",
      "Name:  Abhi\n"
     ]
    }
   ],
   "source": [
    "## Declaring and Assigning Variables\n",
    "\n",
    "age=23\n",
    "height = 6.0\n",
    "name = \"Abhi\"\n",
    "is_Student = True\n",
    "\n",
    "## Printing the Variables\n",
    "\n",
    "print(\"Age: \",age)\n",
    "print(\"Height: \",height)\n",
    "print(\"Name: \",name)"
   ]
  },
  {
   "cell_type": "code",
   "execution_count": null,
   "id": "ab407b09",
   "metadata": {},
   "outputs": [],
   "source": [
    "## Naming Conventions\n",
    "# Variable name should be descriptive\n",
    "# They must start with a letter or an '_' and contain letter, numbers and underscores\n",
    "# Variable names are case sensitive\n",
    "\n",
    "# Valid Variable names\n",
    "\n",
    "first_name = \"Abhi\"\n",
    "last_name = \"Chavan\""
   ]
  },
  {
   "cell_type": "code",
   "execution_count": null,
   "id": "94c4d49e",
   "metadata": {},
   "outputs": [
    {
     "ename": "SyntaxError",
     "evalue": "invalid syntax. Maybe you meant '==' or ':=' instead of '='? (1280741852.py, line 5)",
     "output_type": "error",
     "traceback": [
      "  \u001b[36mCell\u001b[39m\u001b[36m \u001b[39m\u001b[32mIn[5]\u001b[39m\u001b[32m, line 5\u001b[39m\n\u001b[31m    \u001b[39m\u001b[31m@name = \"Abhi\"\u001b[39m\n     ^\n\u001b[31mSyntaxError\u001b[39m\u001b[31m:\u001b[39m invalid syntax. Maybe you meant '==' or ':=' instead of '='?\n"
     ]
    }
   ],
   "source": [
    "# Invalid Variable names\n",
    "\n",
    "# 2age = 30\n",
    "# first-name = \"Abhi\"\n",
    "# @name = \"Abhi\""
   ]
  },
  {
   "cell_type": "code",
   "execution_count": null,
   "id": "99dc25a9",
   "metadata": {},
   "outputs": [],
   "source": [
    "## Case Sensitivity\n",
    "\n",
    "name = \"Abhi\"\n",
    "Name = \"Chavan\"\n",
    "\n",
    "print(name)\n",
    "print(Name)"
   ]
  }
 ],
 "metadata": {
  "kernelspec": {
   "display_name": "Python 3",
   "language": "python",
   "name": "python3"
  },
  "language_info": {
   "codemirror_mode": {
    "name": "ipython",
    "version": 3
   },
   "file_extension": ".py",
   "mimetype": "text/x-python",
   "name": "python",
   "nbconvert_exporter": "python",
   "pygments_lexer": "ipython3",
   "version": "3.12.11"
  }
 },
 "nbformat": 4,
 "nbformat_minor": 5
}
