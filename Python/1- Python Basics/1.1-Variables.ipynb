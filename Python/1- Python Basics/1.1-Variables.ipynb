{
 "cells": [
  {
   "cell_type": "code",
   "execution_count": 1,
   "id": "77549ff7",
   "metadata": {},
   "outputs": [
    {
     "name": "stdout",
     "output_type": "stream",
     "text": [
      "Age:  23\n",
      "Height:  6.0\n",
      "Name:  Abhi\n"
     ]
    }
   ],
   "source": [
    "## Declaring and Assigning Variables\n",
    "\n",
    "age=23\n",
    "height = 6.0\n",
    "name = \"Abhi\"\n",
    "is_Student = True\n",
    "\n",
    "## Printing the Variables\n",
    "\n",
    "print(\"Age: \",age)\n",
    "print(\"Height: \",height)\n",
    "print(\"Name: \",name)"
   ]
  },
  {
   "cell_type": "code",
   "execution_count": null,
   "id": "ab407b09",
   "metadata": {},
   "outputs": [],
   "source": [
    "## Naming Conventions\n",
    "# Variable name should be descriptive\n",
    "# They must start with a letter or an '_' and contain letter, numbers and underscores\n",
    "# Variable names are case sensitive"
   ]
  }
 ],
 "metadata": {
  "kernelspec": {
   "display_name": "Python 3",
   "language": "python",
   "name": "python3"
  },
  "language_info": {
   "codemirror_mode": {
    "name": "ipython",
    "version": 3
   },
   "file_extension": ".py",
   "mimetype": "text/x-python",
   "name": "python",
   "nbconvert_exporter": "python",
   "pygments_lexer": "ipython3",
   "version": "3.12.11"
  }
 },
 "nbformat": 4,
 "nbformat_minor": 5
}
